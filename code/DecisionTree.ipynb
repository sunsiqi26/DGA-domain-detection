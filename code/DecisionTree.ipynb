{
 "cells": [
  {
   "cell_type": "code",
   "execution_count": 1,
   "metadata": {},
   "outputs": [],
   "source": [
    "from __future__ import division\n",
    "import os\n",
    "import sys\n",
    "import re\n",
    "import matplotlib\n",
    "import pandas as pd\n",
    "import numpy as np\n",
    "#from os.path import splitext\n",
    "#import ipaddress as ip\n",
    "sys.path.append('/usr/local/lib/python3.7/site-packages')\n",
    "import tldextract\n",
    "import datetime\n",
    "from urllib.parse import urlparse\n",
    "import matplotlib.pyplot as plt\n",
    "import pandas as pd\n",
    "import pickle as pkl\n",
    "from collections import Counter\n",
    "import nltk\n",
    "from itertools import groupby\n",
    "from nltk.collocations import BigramCollocationFinder\n",
    "from nltk.collocations import TrigramCollocationFinder\n",
    "from sklearn.model_selection import train_test_split"
   ]
  },
  {
   "cell_type": "code",
   "execution_count": 2,
   "metadata": {},
   "outputs": [],
   "source": [
    "#香农熵\n",
    "def count_entropy(domain):\n",
    "    domain_len = len(domain)\n",
    "    count = Counter(i for i in domain).most_common()\n",
    "    entropy = -sum(fre / domain_len * (np.log(fre/domain_len)) for ch, fre in count)\n",
    "    return entropy"
   ]
  },
  {
   "cell_type": "code",
   "execution_count": 3,
   "metadata": {},
   "outputs": [],
   "source": [
    "#元音字母比重\n",
    "def count_vowel_ratio(domain):\n",
    "    vowels=list('aeiou')\n",
    "    sum_vowel = sum(vowels.count(i) for i in domain.lower())\n",
    "    return sum_vowel / len(domain)"
   ]
  },
  {
   "cell_type": "code",
   "execution_count": 4,
   "metadata": {},
   "outputs": [],
   "source": [
    "#数字占比\n",
    "def count_digits_ratio(word):#how many digits\n",
    "    digits=list('0123456789')\n",
    "    sum_digits = sum(digits.count(i) for i in word.lower())\n",
    "    return sum_digits/len(word)"
   ]
  },
  {
   "cell_type": "code",
   "execution_count": 5,
   "metadata": {},
   "outputs": [],
   "source": [
    "#重复字母占比\n",
    "def count_repeat_letter(word):\n",
    "    count = Counter(i for i in word.lower() if i.isalpha()).most_common()\n",
    "    cnt = 0\n",
    "    for letter,ct in count:\n",
    "        if ct>1:\n",
    "            cnt+=1\n",
    "    return cnt / len(word)"
   ]
  },
  {
   "cell_type": "code",
   "execution_count": 6,
   "metadata": {},
   "outputs": [],
   "source": [
    "#连续数字占比\n",
    "def consecutive_digits_ratio(word):#how many consecutive digit\n",
    "    cnt = 0\n",
    "    digit_map = [int(i.isdigit()) for i in word]\n",
    "    consecutive=[(k,len(list(g))) for k, g in groupby(digit_map)]\n",
    "    count_consecutive = sum(j for i,j in consecutive if j>1 and i==1)\n",
    "    return count_consecutive / len(word)"
   ]
  },
  {
   "cell_type": "code",
   "execution_count": 7,
   "metadata": {},
   "outputs": [],
   "source": [
    "#2-gram\n",
    "def count_Bigram(domain):\n",
    "    bigram_finder = BigramCollocationFinder.from_words(domain)\n",
    "    bigram_measures = nltk.collocations.BigramAssocMeasures()\n",
    "    scored = bigram_finder.score_ngrams(bigram_measures.pmi)\n",
    "    number = 0\n",
    "    for i in scored:\n",
    "        number = number + i[1]\n",
    "    return int(number)"
   ]
  },
  {
   "cell_type": "code",
   "execution_count": 8,
   "metadata": {},
   "outputs": [],
   "source": [
    "#3-gram\n",
    "def count_Trigram(domain):\n",
    "    trigram_finder = TrigramCollocationFinder.from_words(domain)\n",
    "    trigram_measures = nltk.collocations.TrigramAssocMeasures()\n",
    "    scored = trigram_finder.score_ngrams(trigram_measures.poisson_stirling)\n",
    "    number = 0\n",
    "    for i in scored:\n",
    "        number = number + i[1]\n",
    "    return int(number)"
   ]
  },
  {
   "cell_type": "code",
   "execution_count": 9,
   "metadata": {},
   "outputs": [],
   "source": [
    "#判断是否是顶级域名\n",
    "def count_TLD(domain):\n",
    "    root = domain.split('.')[-1]   \n",
    "    TLDlist = ['cn','com','cc','net','org','gov','info']\n",
    "    if root in TLDlist:\n",
    "        return 1\n",
    "    else:\n",
    "        return 0"
   ]
  },
  {
   "cell_type": "markdown",
   "metadata": {},
   "source": [
    "## 导入数据"
   ]
  },
  {
   "cell_type": "code",
   "execution_count": 10,
   "metadata": {},
   "outputs": [
    {
     "data": {
      "text/plain": [
       "(801667, 2)"
      ]
     },
     "execution_count": 10,
     "metadata": {},
     "output_type": "execute_result"
    }
   ],
   "source": [
    "df_dga=pd.read_csv(\"all_dga.txt\", sep=' ',names=['domain','label'],header=None)\n",
    "#df_dga.head()\n",
    "df_dga.shape"
   ]
  },
  {
   "cell_type": "code",
   "execution_count": 11,
   "metadata": {},
   "outputs": [
    {
     "data": {
      "text/html": [
       "<div>\n",
       "<style scoped>\n",
       "    .dataframe tbody tr th:only-of-type {\n",
       "        vertical-align: middle;\n",
       "    }\n",
       "\n",
       "    .dataframe tbody tr th {\n",
       "        vertical-align: top;\n",
       "    }\n",
       "\n",
       "    .dataframe thead th {\n",
       "        text-align: right;\n",
       "    }\n",
       "</style>\n",
       "<table border=\"1\" class=\"dataframe\">\n",
       "  <thead>\n",
       "    <tr style=\"text-align: right;\">\n",
       "      <th></th>\n",
       "      <th>domain</th>\n",
       "      <th>label</th>\n",
       "    </tr>\n",
       "  </thead>\n",
       "  <tbody>\n",
       "    <tr>\n",
       "      <th>0</th>\n",
       "      <td>www.jaguarforums.com</td>\n",
       "      <td>0</td>\n",
       "    </tr>\n",
       "    <tr>\n",
       "      <th>1</th>\n",
       "      <td>timesofindia-indiatimes-com.cdn.ampproject.org</td>\n",
       "      <td>0</td>\n",
       "    </tr>\n",
       "    <tr>\n",
       "      <th>2</th>\n",
       "      <td>placer.ca.gov</td>\n",
       "      <td>0</td>\n",
       "    </tr>\n",
       "    <tr>\n",
       "      <th>3</th>\n",
       "      <td>businessoffashion.eu.auth0.com</td>\n",
       "      <td>0</td>\n",
       "    </tr>\n",
       "    <tr>\n",
       "      <th>4</th>\n",
       "      <td>inspired-beauty.com</td>\n",
       "      <td>0</td>\n",
       "    </tr>\n",
       "  </tbody>\n",
       "</table>\n",
       "</div>"
      ],
      "text/plain": [
       "                                           domain  label\n",
       "0                            www.jaguarforums.com      0\n",
       "1  timesofindia-indiatimes-com.cdn.ampproject.org      0\n",
       "2                                   placer.ca.gov      0\n",
       "3                  businessoffashion.eu.auth0.com      0\n",
       "4                             inspired-beauty.com      0"
      ]
     },
     "execution_count": 11,
     "metadata": {},
     "output_type": "execute_result"
    }
   ],
   "source": [
    "df = pd.read_csv(\"top-1m.csv\", names=['domain'],encoding='utf-8')\n",
    "df['label']=0\n",
    "df=df.sample(frac=1)\n",
    "df = df.sample(frac=1).reset_index(drop=True)\n",
    "df.head()"
   ]
  },
  {
   "cell_type": "markdown",
   "metadata": {},
   "source": [
    "## 特征提取"
   ]
  },
  {
   "cell_type": "code",
   "execution_count": 12,
   "metadata": {},
   "outputs": [],
   "source": [
    "featureSet = pd.DataFrame(columns=('d','entropy','vowel_ratio','digits_ratio',\\\n",
    "'repeat_letter','consecutive_digits_ratio','2-gram','3-gram','tld','len','label'))"
   ]
  },
  {
   "cell_type": "code",
   "execution_count": 13,
   "metadata": {},
   "outputs": [],
   "source": [
    "from urllib.parse import urlparse\n",
    "import tldextract\n",
    "def getFeatures(domain, label): \n",
    "    result = []\n",
    "    url = str(domain)\n",
    "    result.append(domain)\n",
    "    result.append(count_entropy(domain))\n",
    "    result.append(count_vowel_ratio(domain))\n",
    "    result.append(count_digits_ratio(domain))\n",
    "    result.append(count_repeat_letter(domain))    \n",
    "    result.append(consecutive_digits_ratio(domain))\n",
    "    result.append(count_Bigram(domain))\n",
    "    result.append(count_Trigram(domain))\n",
    "    result.append(count_TLD(domain))\n",
    "    result.append(len(domain))\n",
    "    result.append(label)\n",
    "    return result\n",
    "                  \n",
    " "
   ]
  },
  {
   "cell_type": "code",
   "execution_count": 14,
   "metadata": {
    "scrolled": true
   },
   "outputs": [
    {
     "data": {
      "text/html": [
       "<div>\n",
       "<style scoped>\n",
       "    .dataframe tbody tr th:only-of-type {\n",
       "        vertical-align: middle;\n",
       "    }\n",
       "\n",
       "    .dataframe tbody tr th {\n",
       "        vertical-align: top;\n",
       "    }\n",
       "\n",
       "    .dataframe thead th {\n",
       "        text-align: right;\n",
       "    }\n",
       "</style>\n",
       "<table border=\"1\" class=\"dataframe\">\n",
       "  <thead>\n",
       "    <tr style=\"text-align: right;\">\n",
       "      <th></th>\n",
       "      <th>d</th>\n",
       "      <th>entropy</th>\n",
       "      <th>vowel_ratio</th>\n",
       "      <th>digits_ratio</th>\n",
       "      <th>repeat_letter</th>\n",
       "      <th>consecutive_digits_ratio</th>\n",
       "      <th>2-gram</th>\n",
       "      <th>3-gram</th>\n",
       "      <th>tld</th>\n",
       "      <th>len</th>\n",
       "      <th>label</th>\n",
       "    </tr>\n",
       "  </thead>\n",
       "  <tbody>\n",
       "    <tr>\n",
       "      <th>0</th>\n",
       "      <td>www.jaguarforums.com</td>\n",
       "      <td>2.415052</td>\n",
       "      <td>0.300000</td>\n",
       "      <td>0.000000</td>\n",
       "      <td>0.300000</td>\n",
       "      <td>0.000000</td>\n",
       "      <td>51</td>\n",
       "      <td>95</td>\n",
       "      <td>1</td>\n",
       "      <td>20</td>\n",
       "      <td>0</td>\n",
       "    </tr>\n",
       "    <tr>\n",
       "      <th>1</th>\n",
       "      <td>timesofindia-indiatimes-com.cdn.ampproject.org</td>\n",
       "      <td>2.731751</td>\n",
       "      <td>0.347826</td>\n",
       "      <td>0.000000</td>\n",
       "      <td>0.260870</td>\n",
       "      <td>0.000000</td>\n",
       "      <td>98</td>\n",
       "      <td>242</td>\n",
       "      <td>1</td>\n",
       "      <td>46</td>\n",
       "      <td>0</td>\n",
       "    </tr>\n",
       "    <tr>\n",
       "      <th>2</th>\n",
       "      <td>placer.ca.gov</td>\n",
       "      <td>2.245035</td>\n",
       "      <td>0.307692</td>\n",
       "      <td>0.000000</td>\n",
       "      <td>0.153846</td>\n",
       "      <td>0.000000</td>\n",
       "      <td>32</td>\n",
       "      <td>52</td>\n",
       "      <td>1</td>\n",
       "      <td>13</td>\n",
       "      <td>0</td>\n",
       "    </tr>\n",
       "    <tr>\n",
       "      <th>3</th>\n",
       "      <td>businessoffashion.eu.auth0.com</td>\n",
       "      <td>2.609516</td>\n",
       "      <td>0.400000</td>\n",
       "      <td>0.033333</td>\n",
       "      <td>0.300000</td>\n",
       "      <td>0.000000</td>\n",
       "      <td>73</td>\n",
       "      <td>147</td>\n",
       "      <td>1</td>\n",
       "      <td>30</td>\n",
       "      <td>0</td>\n",
       "    </tr>\n",
       "    <tr>\n",
       "      <th>4</th>\n",
       "      <td>inspired-beauty.com</td>\n",
       "      <td>2.798513</td>\n",
       "      <td>0.368421</td>\n",
       "      <td>0.000000</td>\n",
       "      <td>0.105263</td>\n",
       "      <td>0.000000</td>\n",
       "      <td>69</td>\n",
       "      <td>117</td>\n",
       "      <td>1</td>\n",
       "      <td>19</td>\n",
       "      <td>0</td>\n",
       "    </tr>\n",
       "    <tr>\n",
       "      <th>5</th>\n",
       "      <td>guideit.com</td>\n",
       "      <td>2.271869</td>\n",
       "      <td>0.454545</td>\n",
       "      <td>0.000000</td>\n",
       "      <td>0.090909</td>\n",
       "      <td>0.000000</td>\n",
       "      <td>30</td>\n",
       "      <td>47</td>\n",
       "      <td>1</td>\n",
       "      <td>11</td>\n",
       "      <td>0</td>\n",
       "    </tr>\n",
       "    <tr>\n",
       "      <th>6</th>\n",
       "      <td>app-measurement.com</td>\n",
       "      <td>2.451583</td>\n",
       "      <td>0.368421</td>\n",
       "      <td>0.000000</td>\n",
       "      <td>0.210526</td>\n",
       "      <td>0.000000</td>\n",
       "      <td>51</td>\n",
       "      <td>93</td>\n",
       "      <td>1</td>\n",
       "      <td>19</td>\n",
       "      <td>0</td>\n",
       "    </tr>\n",
       "    <tr>\n",
       "      <th>7</th>\n",
       "      <td>d-23.winudf.com</td>\n",
       "      <td>2.523211</td>\n",
       "      <td>0.200000</td>\n",
       "      <td>0.133333</td>\n",
       "      <td>0.066667</td>\n",
       "      <td>0.133333</td>\n",
       "      <td>47</td>\n",
       "      <td>78</td>\n",
       "      <td>1</td>\n",
       "      <td>15</td>\n",
       "      <td>0</td>\n",
       "    </tr>\n",
       "    <tr>\n",
       "      <th>8</th>\n",
       "      <td>apd-p2plogin.teg.tencent-cloud.net</td>\n",
       "      <td>2.598567</td>\n",
       "      <td>0.264706</td>\n",
       "      <td>0.029412</td>\n",
       "      <td>0.264706</td>\n",
       "      <td>0.000000</td>\n",
       "      <td>76</td>\n",
       "      <td>166</td>\n",
       "      <td>1</td>\n",
       "      <td>34</td>\n",
       "      <td>0</td>\n",
       "    </tr>\n",
       "    <tr>\n",
       "      <th>9</th>\n",
       "      <td>gamma.getresponse-mail.com</td>\n",
       "      <td>2.578019</td>\n",
       "      <td>0.346154</td>\n",
       "      <td>0.000000</td>\n",
       "      <td>0.230769</td>\n",
       "      <td>0.000000</td>\n",
       "      <td>69</td>\n",
       "      <td>133</td>\n",
       "      <td>1</td>\n",
       "      <td>26</td>\n",
       "      <td>0</td>\n",
       "    </tr>\n",
       "  </tbody>\n",
       "</table>\n",
       "</div>"
      ],
      "text/plain": [
       "                                                d   entropy  vowel_ratio  \\\n",
       "0                            www.jaguarforums.com  2.415052     0.300000   \n",
       "1  timesofindia-indiatimes-com.cdn.ampproject.org  2.731751     0.347826   \n",
       "2                                   placer.ca.gov  2.245035     0.307692   \n",
       "3                  businessoffashion.eu.auth0.com  2.609516     0.400000   \n",
       "4                             inspired-beauty.com  2.798513     0.368421   \n",
       "5                                     guideit.com  2.271869     0.454545   \n",
       "6                             app-measurement.com  2.451583     0.368421   \n",
       "7                                 d-23.winudf.com  2.523211     0.200000   \n",
       "8              apd-p2plogin.teg.tencent-cloud.net  2.598567     0.264706   \n",
       "9                      gamma.getresponse-mail.com  2.578019     0.346154   \n",
       "\n",
       "   digits_ratio  repeat_letter  consecutive_digits_ratio 2-gram 3-gram tld  \\\n",
       "0      0.000000       0.300000                  0.000000     51     95   1   \n",
       "1      0.000000       0.260870                  0.000000     98    242   1   \n",
       "2      0.000000       0.153846                  0.000000     32     52   1   \n",
       "3      0.033333       0.300000                  0.000000     73    147   1   \n",
       "4      0.000000       0.105263                  0.000000     69    117   1   \n",
       "5      0.000000       0.090909                  0.000000     30     47   1   \n",
       "6      0.000000       0.210526                  0.000000     51     93   1   \n",
       "7      0.133333       0.066667                  0.133333     47     78   1   \n",
       "8      0.029412       0.264706                  0.000000     76    166   1   \n",
       "9      0.000000       0.230769                  0.000000     69    133   1   \n",
       "\n",
       "  len label  \n",
       "0  20     0  \n",
       "1  46     0  \n",
       "2  13     0  \n",
       "3  30     0  \n",
       "4  19     0  \n",
       "5  11     0  \n",
       "6  19     0  \n",
       "7  15     0  \n",
       "8  34     0  \n",
       "9  26     0  "
      ]
     },
     "execution_count": 14,
     "metadata": {},
     "output_type": "execute_result"
    }
   ],
   "source": [
    "for i in range(5000):\n",
    "    features = getFeatures(df[\"domain\"].loc[i], df[\"label\"].loc[i])    \n",
    "    featureSet.loc[i] = features\n",
    "for i in range(5000):\n",
    "    features = getFeatures(df_dga[\"domain\"].loc[i], df_dga[\"label\"].loc[i])    \n",
    "    featureSet.loc[i+5000] = features\n",
    "featureSet.head(10)"
   ]
  },
  {
   "cell_type": "markdown",
   "metadata": {},
   "source": [
    "## 训练"
   ]
  },
  {
   "cell_type": "code",
   "execution_count": 15,
   "metadata": {},
   "outputs": [],
   "source": [
    "X = featureSet.drop(['d','label'],axis=1).values\n",
    "y = featureSet['label'].values\n",
    "X_train, X_test, y_train, y_test = train_test_split(X, y ,test_size=0.2)"
   ]
  },
  {
   "cell_type": "code",
   "execution_count": 16,
   "metadata": {},
   "outputs": [
    {
     "name": "stdout",
     "output_type": "stream",
     "text": [
      "0.922\n"
     ]
    }
   ],
   "source": [
    "from sklearn import tree, linear_model\n",
    "clf = tree.DecisionTreeClassifier(max_depth=10)\n",
    "clf.fit(X_train,y_train.astype('int'))\n",
    "score = clf.score(X_test,y_test.astype('int'))\n",
    "print (\"%s\"%(score))\n",
    "    "
   ]
  },
  {
   "cell_type": "code",
   "execution_count": 17,
   "metadata": {},
   "outputs": [
    {
     "name": "stdout",
     "output_type": "stream",
     "text": [
      "4507.000000,493.000000\n",
      "183.000000,4817.000000\n",
      "Accuracy rate : 93.240000 %\n",
      "Recall rate : 96.098081 %\n"
     ]
    }
   ],
   "source": [
    "from sklearn.metrics import confusion_matrix\n",
    "res = clf.predict(X)\n",
    "#recall = confusion_matrix(y, res)\n",
    "mt=confusion_matrix(y.astype('int'), res)\n",
    "print(\"%f,%f\" % (mt[0][0],mt[0][1]))\n",
    "print(\"%f,%f\" % (mt[1][0],mt[1][1]))\n",
    "print(\"Accuracy rate : %f %%\" % (((mt[0][0]+mt[1][1]) / float(mt.sum()))*100))\n",
    "print('Recall rate : %f %%' % ( (mt[0][0] / float(mt.sum(axis=0)[0])*100)))"
   ]
  },
  {
   "cell_type": "markdown",
   "metadata": {},
   "source": [
    "## test"
   ]
  },
  {
   "cell_type": "code",
   "execution_count": 20,
   "metadata": {},
   "outputs": [
    {
     "name": "stdout",
     "output_type": "stream",
     "text": [
      "this is a benign url\n"
     ]
    }
   ],
   "source": [
    "#输入域名判断是否为DGA域名\n",
    "test = 'baidu.com'\n",
    "result = pd.DataFrame(columns=('d','entropy','vowel_ratio','digits_ratio',\\\n",
    "'repeat_letter','consecutive_digits_ratio','2-gram','3-gram','tld','len','label'))\n",
    "results = getFeatures(test, 0)\n",
    "result.loc[0] = results\n",
    "result = result.drop(['d', 'label'], axis = 1).values\n",
    "if(clf.predict(result)):\n",
    "    print(\"this is a DGA url\" )\n",
    "else:\n",
    "    print(\"this is a benign url\" )"
   ]
  },
  {
   "cell_type": "code",
   "execution_count": 21,
   "metadata": {},
   "outputs": [
    {
     "name": "stdout",
     "output_type": "stream",
     "text": [
      "this is a DGA url\n"
     ]
    }
   ],
   "source": [
    "#输入域名判断是否为DGA域名\n",
    "test = 'gllcsbqrbfch.com'\n",
    "result = pd.DataFrame(columns=('d','entropy','vowel_ratio','digits_ratio',\\\n",
    "'repeat_letter','consecutive_digits_ratio','2-gram','3-gram','tld','len','label'))\n",
    "results = getFeatures(test, 0)\n",
    "result.loc[0] = results\n",
    "result = result.drop(['d', 'label'], axis = 1).values\n",
    "if(clf.predict(result)):\n",
    "    print(\"this is a DGA url\" )\n",
    "else:\n",
    "    print(\"this is a benign url\" )"
   ]
  }
 ],
 "metadata": {
  "kernelspec": {
   "display_name": "Python 3",
   "language": "python",
   "name": "python3"
  },
  "language_info": {
   "codemirror_mode": {
    "name": "ipython",
    "version": 3
   },
   "file_extension": ".py",
   "mimetype": "text/x-python",
   "name": "python",
   "nbconvert_exporter": "python",
   "pygments_lexer": "ipython3",
   "version": "3.7.3"
  },
  "toc": {
   "base_numbering": 1,
   "nav_menu": {},
   "number_sections": true,
   "sideBar": true,
   "skip_h1_title": false,
   "title_cell": "Table of Contents",
   "title_sidebar": "Contents",
   "toc_cell": false,
   "toc_position": {},
   "toc_section_display": true,
   "toc_window_display": false
  }
 },
 "nbformat": 4,
 "nbformat_minor": 2
}
