{
 "cells": [
  {
   "cell_type": "code",
   "execution_count": 1,
   "metadata": {},
   "outputs": [],
   "source": [
    "import tldextract"
   ]
  },
  {
   "cell_type": "markdown",
   "metadata": {},
   "source": [
    "## 导入数据"
   ]
  },
  {
   "cell_type": "code",
   "execution_count": 2,
   "metadata": {},
   "outputs": [],
   "source": [
    "X = []\n",
    "y = []"
   ]
  },
  {
   "cell_type": "code",
   "execution_count": 3,
   "metadata": {},
   "outputs": [],
   "source": [
    "def get_data(filename, isdga):\n",
    "    fd = open(filename, encoding='UTF-8-sig')\n",
    "    for line in fd:\n",
    "        X.append(tldextract.extract(line).domain) \n",
    "        if isdga:\n",
    "            y.append(1)\n",
    "        else:\n",
    "            y.append(0)"
   ]
  },
  {
   "cell_type": "code",
   "execution_count": 4,
   "metadata": {},
   "outputs": [],
   "source": [
    "get_data('/Users/dqy/My/DGA_detection/alexa.csv',0)\n",
    "get_data('/Users/dqy/My/DGA_detection/dgaURL.csv',1)"
   ]
  },
  {
   "cell_type": "code",
   "execution_count": 5,
   "metadata": {},
   "outputs": [
    {
     "name": "stdout",
     "output_type": "stream",
     "text": [
      "['google', 'facebook', 'youtube', 'yahoo', 'baidu']\n",
      "[0, 0, 0, 0, 0]\n",
      "['gllcsbqrbfch', 'hkgjjokkwodt', 'jjnehudfmclq', 'hieffvbcjitc', 'fckjmggtxchv']\n",
      "[1, 1, 1, 1, 1]\n",
      "20000\n",
      "20000\n"
     ]
    }
   ],
   "source": [
    "print(X[0:5])\n",
    "print(y[0:5])\n",
    "print(X[10000:10005])\n",
    "print(y[10000:10005])\n",
    "print(len(X))\n",
    "print(len(y))"
   ]
  },
  {
   "cell_type": "markdown",
   "metadata": {},
   "source": [
    "## 向量化"
   ]
  },
  {
   "cell_type": "code",
   "execution_count": 6,
   "metadata": {},
   "outputs": [
    {
     "name": "stderr",
     "output_type": "stream",
     "text": [
      "Using TensorFlow backend.\n"
     ]
    }
   ],
   "source": [
    "from keras.layers.core import Dense\n",
    "from keras.models import Sequential\n",
    "import sklearn\n",
    "from sklearn import feature_extraction\n",
    "from sklearn.model_selection import train_test_split "
   ]
  },
  {
   "cell_type": "code",
   "execution_count": 7,
   "metadata": {},
   "outputs": [
    {
     "name": "stdout",
     "output_type": "stream",
     "text": [
      "vectorizing data\n"
     ]
    }
   ],
   "source": [
    "# Create feature vectors\n",
    "print (\"vectorizing data\")\n",
    "ngram_vectorizer = feature_extraction.text.CountVectorizer(analyzer='char', ngram_range=(2, 2))\n",
    "count_vec = ngram_vectorizer.fit_transform(X)"
   ]
  },
  {
   "cell_type": "markdown",
   "metadata": {},
   "source": [
    "## 训练模型"
   ]
  },
  {
   "cell_type": "code",
   "execution_count": 8,
   "metadata": {},
   "outputs": [],
   "source": [
    "acc = []\n",
    "rec = []\n",
    "X_train, X_hold, y_train, y_hold, = train_test_split(count_vec, y, test_size=0.05)\n",
    "nfolds=10\n",
    "batch_size=128\n",
    "max_features = count_vec.shape[1]"
   ]
  },
  {
   "cell_type": "code",
   "execution_count": 9,
   "metadata": {},
   "outputs": [
    {
     "name": "stdout",
     "output_type": "stream",
     "text": [
      "fold 1/10\n",
      "Build model...\n",
      "Train...\n",
      "Epoch 1/10\n",
      "17100/17100 [==============================] - 1s 43us/step - loss: 0.5982\n",
      "Epoch 2/10\n",
      "17100/17100 [==============================] - 0s 26us/step - loss: 0.4381\n",
      "Epoch 3/10\n",
      "17100/17100 [==============================] - 0s 27us/step - loss: 0.3420: 0s - loss: 0.343\n",
      "Epoch 4/10\n",
      "17100/17100 [==============================] - 0s 22us/step - loss: 0.2800\n",
      "Epoch 5/10\n",
      "17100/17100 [==============================] - 0s 23us/step - loss: 0.2372\n",
      "Epoch 6/10\n",
      "17100/17100 [==============================] - 0s 16us/step - loss: 0.2060\n",
      "Epoch 7/10\n",
      "17100/17100 [==============================] - 0s 17us/step - loss: 0.1822\n",
      "Epoch 8/10\n",
      "17100/17100 [==============================] - 0s 21us/step - loss: 0.1634\n",
      "Epoch 9/10\n",
      "17100/17100 [==============================] - 0s 18us/step - loss: 0.1482\n",
      "Epoch 10/10\n",
      "17100/17100 [==============================] - 0s 19us/step - loss: 0.1356\n",
      "fold 2/10\n",
      "Build model...\n",
      "Train...\n",
      "Epoch 1/10\n",
      "15390/15390 [==============================] - 0s 22us/step - loss: 0.5990: 0s - loss: 0.599\n",
      "Epoch 2/10\n",
      "15390/15390 [==============================] - 0s 21us/step - loss: 0.4510\n",
      "Epoch 3/10\n",
      "15390/15390 [==============================] - 0s 18us/step - loss: 0.3576\n",
      "Epoch 4/10\n",
      "15390/15390 [==============================] - 0s 20us/step - loss: 0.2954\n",
      "Epoch 5/10\n",
      "15390/15390 [==============================] - 0s 17us/step - loss: 0.2517\n",
      "Epoch 6/10\n",
      "15390/15390 [==============================] - 0s 18us/step - loss: 0.2193\n",
      "Epoch 7/10\n",
      "15390/15390 [==============================] - 0s 17us/step - loss: 0.1945\n",
      "Epoch 8/10\n",
      "15390/15390 [==============================] - 0s 20us/step - loss: 0.1748\n",
      "Epoch 9/10\n",
      "15390/15390 [==============================] - 0s 19us/step - loss: 0.1588\n",
      "Epoch 10/10\n",
      "15390/15390 [==============================] - 0s 18us/step - loss: 0.1455\n",
      "fold 3/10\n",
      "Build model...\n",
      "Train...\n",
      "Epoch 1/10\n",
      "13851/13851 [==============================] - 0s 30us/step - loss: 0.6054\n",
      "Epoch 2/10\n",
      "13851/13851 [==============================] - 0s 18us/step - loss: 0.4662\n",
      "Epoch 3/10\n",
      "13851/13851 [==============================] - 0s 17us/step - loss: 0.3752\n",
      "Epoch 4/10\n",
      "13851/13851 [==============================] - 0s 17us/step - loss: 0.3130\n",
      "Epoch 5/10\n",
      "13851/13851 [==============================] - 0s 22us/step - loss: 0.2683\n",
      "Epoch 6/10\n",
      "13851/13851 [==============================] - 0s 18us/step - loss: 0.2349\n",
      "Epoch 7/10\n",
      "13851/13851 [==============================] - 0s 18us/step - loss: 0.2090\n",
      "Epoch 8/10\n",
      "13851/13851 [==============================] - 0s 18us/step - loss: 0.1884\n",
      "Epoch 9/10\n",
      "13851/13851 [==============================] - 0s 24us/step - loss: 0.1715\n",
      "Epoch 10/10\n",
      "13851/13851 [==============================] - 0s 18us/step - loss: 0.1575\n",
      "fold 4/10\n",
      "Build model...\n",
      "Train...\n",
      "Epoch 1/10\n",
      "12465/12465 [==============================] - 0s 28us/step - loss: 0.6102\n",
      "Epoch 2/10\n",
      "12465/12465 [==============================] - 0s 20us/step - loss: 0.4797\n",
      "Epoch 3/10\n",
      "12465/12465 [==============================] - 0s 16us/step - loss: 0.3914\n",
      "Epoch 4/10\n",
      "12465/12465 [==============================] - 0s 18us/step - loss: 0.3294\n",
      "Epoch 5/10\n",
      "12465/12465 [==============================] - 0s 18us/step - loss: 0.2840\n",
      "Epoch 6/10\n",
      "12465/12465 [==============================] - 0s 16us/step - loss: 0.2496\n",
      "Epoch 7/10\n",
      "12465/12465 [==============================] - 0s 17us/step - loss: 0.2228\n",
      "Epoch 8/10\n",
      "12465/12465 [==============================] - 0s 18us/step - loss: 0.2012\n",
      "Epoch 9/10\n",
      "12465/12465 [==============================] - 0s 21us/step - loss: 0.1835\n",
      "Epoch 10/10\n",
      "12465/12465 [==============================] - 0s 18us/step - loss: 0.1687\n",
      "fold 5/10\n",
      "Build model...\n",
      "Train...\n",
      "Epoch 1/10\n",
      "11218/11218 [==============================] - 0s 25us/step - loss: 0.6243\n",
      "Epoch 2/10\n",
      "11218/11218 [==============================] - 0s 23us/step - loss: 0.5019\n",
      "Epoch 3/10\n",
      "11218/11218 [==============================] - 0s 23us/step - loss: 0.4159\n",
      "Epoch 4/10\n",
      "11218/11218 [==============================] - 0s 27us/step - loss: 0.3537\n",
      "Epoch 5/10\n",
      "11218/11218 [==============================] - 0s 16us/step - loss: 0.3074\n",
      "Epoch 6/10\n",
      "11218/11218 [==============================] - 0s 20us/step - loss: 0.2718\n",
      "Epoch 7/10\n",
      "11218/11218 [==============================] - 0s 23us/step - loss: 0.2436\n",
      "Epoch 8/10\n",
      "11218/11218 [==============================] - 0s 17us/step - loss: 0.2208\n",
      "Epoch 9/10\n",
      "11218/11218 [==============================] - 0s 16us/step - loss: 0.2020\n",
      "Epoch 10/10\n",
      "11218/11218 [==============================] - 0s 16us/step - loss: 0.1861\n",
      "fold 6/10\n",
      "Build model...\n",
      "Train...\n",
      "Epoch 1/10\n",
      "10096/10096 [==============================] - 0s 24us/step - loss: 0.6312\n",
      "Epoch 2/10\n",
      "10096/10096 [==============================] - 0s 16us/step - loss: 0.5174\n",
      "Epoch 3/10\n",
      "10096/10096 [==============================] - 0s 16us/step - loss: 0.4348\n",
      "Epoch 4/10\n",
      "10096/10096 [==============================] - 0s 16us/step - loss: 0.3735\n",
      "Epoch 5/10\n",
      "10096/10096 [==============================] - 0s 16us/step - loss: 0.3268\n",
      "Epoch 6/10\n",
      "10096/10096 [==============================] - 0s 18us/step - loss: 0.2904\n",
      "Epoch 7/10\n",
      "10096/10096 [==============================] - 0s 19us/step - loss: 0.2612\n",
      "Epoch 8/10\n",
      "10096/10096 [==============================] - 0s 20us/step - loss: 0.2375\n",
      "Epoch 9/10\n",
      "10096/10096 [==============================] - 0s 19us/step - loss: 0.2177\n",
      "Epoch 10/10\n",
      "10096/10096 [==============================] - 0s 19us/step - loss: 0.2010\n",
      "fold 7/10\n",
      "Build model...\n",
      "Train...\n",
      "Epoch 1/10\n",
      "9086/9086 [==============================] - 0s 26us/step - loss: 0.6367\n",
      "Epoch 2/10\n",
      "9086/9086 [==============================] - 0s 20us/step - loss: 0.5312\n",
      "Epoch 3/10\n",
      "9086/9086 [==============================] - 0s 19us/step - loss: 0.4520\n",
      "Epoch 4/10\n",
      "9086/9086 [==============================] - 0s 19us/step - loss: 0.3917\n",
      "Epoch 5/10\n",
      "9086/9086 [==============================] - 0s 18us/step - loss: 0.3450\n",
      "Epoch 6/10\n",
      "9086/9086 [==============================] - 0s 20us/step - loss: 0.3080\n",
      "Epoch 7/10\n",
      "9086/9086 [==============================] - 0s 20us/step - loss: 0.2781\n",
      "Epoch 8/10\n",
      "9086/9086 [==============================] - 0s 23us/step - loss: 0.2535\n",
      "Epoch 9/10\n",
      "9086/9086 [==============================] - 0s 26us/step - loss: 0.2330\n",
      "Epoch 10/10\n",
      "9086/9086 [==============================] - 0s 23us/step - loss: 0.2155\n",
      "fold 8/10\n",
      "Build model...\n",
      "Train...\n",
      "Epoch 1/10\n",
      "8177/8177 [==============================] - 0s 28us/step - loss: 0.6479\n",
      "Epoch 2/10\n",
      "8177/8177 [==============================] - 0s 16us/step - loss: 0.5492\n",
      "Epoch 3/10\n",
      "8177/8177 [==============================] - 0s 17us/step - loss: 0.4736\n",
      "Epoch 4/10\n",
      "8177/8177 [==============================] - 0s 18us/step - loss: 0.4146\n",
      "Epoch 5/10\n",
      "8177/8177 [==============================] - 0s 17us/step - loss: 0.3679\n",
      "Epoch 6/10\n",
      "8177/8177 [==============================] - 0s 17us/step - loss: 0.3303\n",
      "Epoch 7/10\n",
      "8177/8177 [==============================] - 0s 19us/step - loss: 0.2995\n",
      "Epoch 8/10\n",
      "8177/8177 [==============================] - 0s 17us/step - loss: 0.2740: 0s - loss: 0.276\n",
      "Epoch 9/10\n",
      "8177/8177 [==============================] - 0s 17us/step - loss: 0.2524\n",
      "Epoch 10/10\n",
      "8177/8177 [==============================] - 0s 17us/step - loss: 0.2340\n",
      "fold 9/10\n",
      "Build model...\n",
      "Train...\n",
      "Epoch 1/10\n",
      "7359/7359 [==============================] - 0s 29us/step - loss: 0.6474\n",
      "Epoch 2/10\n",
      "7359/7359 [==============================] - 0s 16us/step - loss: 0.5569\n",
      "Epoch 3/10\n",
      "7359/7359 [==============================] - 0s 18us/step - loss: 0.4855\n",
      "Epoch 4/10\n",
      "7359/7359 [==============================] - 0s 17us/step - loss: 0.4285\n",
      "Epoch 5/10\n",
      "7359/7359 [==============================] - 0s 19us/step - loss: 0.3829\n",
      "Epoch 6/10\n",
      "7359/7359 [==============================] - 0s 19us/step - loss: 0.3455\n",
      "Epoch 7/10\n",
      "7359/7359 [==============================] - 0s 23us/step - loss: 0.3146\n",
      "Epoch 8/10\n",
      "7359/7359 [==============================] - 0s 20us/step - loss: 0.2887\n",
      "Epoch 9/10\n",
      "7359/7359 [==============================] - 0s 17us/step - loss: 0.2668\n",
      "Epoch 10/10\n",
      "7359/7359 [==============================] - 0s 19us/step - loss: 0.2479\n",
      "fold 10/10\n",
      "Build model...\n",
      "Train...\n",
      "Epoch 1/10\n",
      "6623/6623 [==============================] - 0s 30us/step - loss: 0.6425\n",
      "Epoch 2/10\n",
      "6623/6623 [==============================] - 0s 17us/step - loss: 0.5603\n",
      "Epoch 3/10\n",
      "6623/6623 [==============================] - 0s 17us/step - loss: 0.4943\n",
      "Epoch 4/10\n",
      "6623/6623 [==============================] - 0s 17us/step - loss: 0.4407\n",
      "Epoch 5/10\n",
      "6623/6623 [==============================] - 0s 24us/step - loss: 0.3966\n",
      "Epoch 6/10\n",
      "6623/6623 [==============================] - 0s 17us/step - loss: 0.3602\n",
      "Epoch 7/10\n",
      "6623/6623 [==============================] - 0s 20us/step - loss: 0.3296\n",
      "Epoch 8/10\n",
      "6623/6623 [==============================] - 0s 17us/step - loss: 0.3037\n",
      "Epoch 9/10\n",
      "6623/6623 [==============================] - 0s 19us/step - loss: 0.2815\n",
      "Epoch 10/10\n",
      "6623/6623 [==============================] - 0s 17us/step - loss: 0.2623\n"
     ]
    }
   ],
   "source": [
    "#k_folds交叉验证\n",
    "for fold in range(nfolds):\n",
    "    print (\"fold %u/%u\" % (fold+1, nfolds))\n",
    "    X_train, X_test, y_train, y_test, = train_test_split(X_train, y_train, test_size=1/nfolds)\n",
    "    \n",
    "    #建立logistic regression模型\n",
    "    print ('Build model...')\n",
    "    model = Sequential()\n",
    "    model.add(Dense(1, input_dim=max_features, activation='sigmoid'))\n",
    "    model.compile(loss='binary_crossentropy',optimizer='adam')\n",
    "    \n",
    "    print (\"Train...\")\n",
    "    model.fit(X_train.todense(), y_train, batch_size=batch_size, epochs=10)\n",
    "    probs = model.predict_proba(X_test.todense())\n",
    "    acc.append(sklearn.metrics.accuracy_score(y_test, probs > .5))\n",
    "    rec.append(sklearn.metrics.recall_score(y_test, probs > .5))"
   ]
  },
  {
   "cell_type": "markdown",
   "metadata": {},
   "source": [
    "## 打印准确率和召回率"
   ]
  },
  {
   "cell_type": "code",
   "execution_count": 10,
   "metadata": {},
   "outputs": [
    {
     "name": "stdout",
     "output_type": "stream",
     "text": [
      "fold    accuracy      recall\n",
      "   1    0.987368    0.992375\n",
      "   2    0.981287    0.985092\n",
      "   3    0.981157    0.991903\n",
      "   4    0.981241    0.990113\n",
      "   5    0.986367    0.993569\n",
      "   6    0.973262    0.987273\n",
      "   7    0.974257    0.980469\n",
      "   8    0.972497    0.993435\n",
      "   9    0.974328    0.990610\n",
      "  10    0.966033    0.978320\n",
      "test    0.981000    0.988417\n"
     ]
    }
   ],
   "source": [
    "print(\"fold    accuracy      recall\")\n",
    "for fold in range(nfolds):\n",
    "    print(\"%4d    %f    %f\"%(fold+1, acc[fold], rec[fold]))\n",
    "probs = model.predict_proba(X_hold.todense())\n",
    "print(\"test    %f    %f\"%(sklearn.metrics.accuracy_score(y_hold, probs > .5),sklearn.metrics.recall_score(y_hold, probs > .5)))"
   ]
  },
  {
   "cell_type": "markdown",
   "metadata": {},
   "source": [
    "## test"
   ]
  },
  {
   "cell_type": "code",
   "execution_count": 11,
   "metadata": {},
   "outputs": [
    {
     "name": "stdout",
     "output_type": "stream",
     "text": [
      "gllcsbqrbfch.com is simda\n"
     ]
    }
   ],
   "source": [
    "my_input=\"gllcsbqrbfch.com\"\n",
    "X.append(tldextract.extract(my_input).domain)\n",
    "x = ngram_vectorizer.fit_transform(X)[len(X)-1]\n",
    "my_probs = model.predict(x.todense())\n",
    "if(my_probs>.5):\n",
    "    print(\"%s.com is simda\"%X[len(X)-1])\n",
    "else:\n",
    "    print(\"%s.com is benign\"%X[len(X)-1])\n",
    "del X[len(X)-1]"
   ]
  },
  {
   "cell_type": "code",
   "execution_count": 12,
   "metadata": {},
   "outputs": [
    {
     "name": "stdout",
     "output_type": "stream",
     "text": [
      "windowsupdate.com is benign\n"
     ]
    }
   ],
   "source": [
    "my_input=\"windowsupdate.com\"\n",
    "X.append(tldextract.extract(my_input).domain)\n",
    "x = ngram_vectorizer.fit_transform(X)[len(X)-1]\n",
    "my_probs = model.predict(x.todense())\n",
    "if(my_probs>.5):\n",
    "    print(\"%s.com is simda\"%X[len(X)-1])\n",
    "else:\n",
    "    print(\"%s.com is benign\"%X[len(X)-1])\n",
    "del X[len(X)-1]"
   ]
  }
 ],
 "metadata": {
  "kernelspec": {
   "display_name": "Python 3",
   "language": "python",
   "name": "python3"
  },
  "language_info": {
   "codemirror_mode": {
    "name": "ipython",
    "version": 3
   },
   "file_extension": ".py",
   "mimetype": "text/x-python",
   "name": "python",
   "nbconvert_exporter": "python",
   "pygments_lexer": "ipython3",
   "version": "3.7.3"
  }
 },
 "nbformat": 4,
 "nbformat_minor": 2
}
